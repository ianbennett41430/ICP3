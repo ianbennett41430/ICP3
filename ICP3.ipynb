{
  "nbformat": 4,
  "nbformat_minor": 0,
  "metadata": {
    "colab": {
      "provenance": [],
      "authorship_tag": "ABX9TyMCHQu7os6mexk/EJ8eAvV/",
      "include_colab_link": true
    },
    "kernelspec": {
      "name": "python3",
      "display_name": "Python 3"
    },
    "language_info": {
      "name": "python"
    }
  },
  "cells": [
    {
      "cell_type": "markdown",
      "metadata": {
        "id": "view-in-github",
        "colab_type": "text"
      },
      "source": [
        "<a href=\"https://colab.research.google.com/github/ianbennett41430/ICP3/blob/main/ICP3.ipynb\" target=\"_parent\"><img src=\"https://colab.research.google.com/assets/colab-badge.svg\" alt=\"Open In Colab\"/></a>"
      ]
    },
    {
      "cell_type": "code",
      "execution_count": null,
      "metadata": {
        "id": "wakVBYHfH5SF"
      },
      "outputs": [],
      "source": []
    },
    {
      "cell_type": "markdown",
      "source": [
        "1. Using NumPy create random vector of size 15 having only Integers in the range 1-20."
      ],
      "metadata": {
        "id": "GCZZ9RKDH6_3"
      }
    },
    {
      "cell_type": "markdown",
      "source": [],
      "metadata": {
        "id": "KE929za7IEM6"
      }
    },
    {
      "cell_type": "code",
      "source": [
        "from numpy.core.multiarray import ndarray\n",
        "import numpy as np\n",
        "import pandas as pd\n",
        "import random\n",
        "import matplotlib\n",
        "\n",
        "print(\"The original array is:\")\n",
        "array1 = np.arange(15)\n",
        "print(array1)\n",
        "#Reshape the array to 3 by 5.\n",
        "print(\"The reshaped 3x5 array is:\")\n",
        "array2 = array1.reshape(3, 5)\n",
        "print(array2)\n",
        "#Print array shape.\n",
        "row,col = array2.shape\n",
        "print(\"The size of the matrix is a\",row,\"by\", col)\n",
        "#Replace the max in each row by 0.\n",
        "array2 = np.max(array2, axis = 1)\n",
        "print(array2)"
      ],
      "metadata": {
        "colab": {
          "base_uri": "https://localhost:8080/"
        },
        "id": "6_L6lC5-II-X",
        "outputId": "c178e059-cef4-4273-fab6-4eefb64c6411"
      },
      "execution_count": 9,
      "outputs": [
        {
          "output_type": "stream",
          "name": "stdout",
          "text": [
            "The original array is:\n",
            "[ 0  1  2  3  4  5  6  7  8  9 10 11 12 13 14]\n",
            "The reshaped 3x5 array is:\n",
            "[[ 0  1  2  3  4]\n",
            " [ 5  6  7  8  9]\n",
            " [10 11 12 13 14]]\n",
            "The size of the matrix is a 3 by 5\n",
            "[ 4  9 14]\n"
          ]
        }
      ]
    },
    {
      "cell_type": "markdown",
      "source": [
        "2. Create a 2-dimensional array of size 4 x 3 (composed of 4-byte integer elements), also print the shape,\n",
        "type, and data type of the array."
      ],
      "metadata": {
        "id": "9PZZsddIok2N"
      }
    },
    {
      "cell_type": "code",
      "source": [
        "import numpy as np\n",
        "arr = (np.arange(12).reshape(4,3), np.int32)\n",
        "print(arr)\n",
        "print(type(arr), np.shape(arr))\n",
        "\n"
      ],
      "metadata": {
        "colab": {
          "base_uri": "https://localhost:8080/"
        },
        "id": "R9bAx6ZXou0X",
        "outputId": "d08e2ad6-09f3-4919-9c62-b5779422c318"
      },
      "execution_count": 8,
      "outputs": [
        {
          "output_type": "stream",
          "name": "stdout",
          "text": [
            "(array([[ 0,  1,  2],\n",
            "       [ 3,  4,  5],\n",
            "       [ 6,  7,  8],\n",
            "       [ 9, 10, 11]]), <class 'numpy.int32'>)\n",
            "<class 'tuple'> (2,)\n"
          ]
        },
        {
          "output_type": "stream",
          "name": "stderr",
          "text": [
            "/usr/local/lib/python3.10/dist-packages/numpy/core/fromnumeric.py:2009: VisibleDeprecationWarning: Creating an ndarray from ragged nested sequences (which is a list-or-tuple of lists-or-tuples-or ndarrays with different lengths or shapes) is deprecated. If you meant to do this, you must specify 'dtype=object' when creating the ndarray.\n",
            "  result = asarray(a).shape\n"
          ]
        }
      ]
    },
    {
      "cell_type": "markdown",
      "source": [
        "3. Compute the sum of the diagonal element of a given array."
      ],
      "metadata": {
        "id": "Vtg5f3It0TKz"
      }
    },
    {
      "cell_type": "code",
      "source": [
        "arr3 = np.arange(6).reshape(2,3)\n",
        "print(arr3)\n",
        "result =  np.trace(arr3)\n",
        "print(\"The sum of the diagonal is:\", result)"
      ],
      "metadata": {
        "colab": {
          "base_uri": "https://localhost:8080/"
        },
        "id": "VZY6CJ1S0ZGb",
        "outputId": "faf6c87d-d94f-4d09-8a19-3a85419096de"
      },
      "execution_count": null,
      "outputs": [
        {
          "output_type": "stream",
          "name": "stdout",
          "text": [
            "[[0 1 2]\n",
            " [3 4 5]]\n",
            "The sum of the diagonal is: 4\n"
          ]
        }
      ]
    },
    {
      "cell_type": "markdown",
      "source": [
        "4. Write a NumPy code:"
      ],
      "metadata": {
        "id": "xvmdf-cM2FRK"
      }
    },
    {
      "cell_type": "code",
      "source": [
        "import numpy as np\n",
        "import array as ar\n",
        "\n",
        "#To create an array of odd and even numbers between 10 to 70.\n",
        "arr4 = np.arange(10,71)\n",
        "print(arr4)\n",
        "#To perform at-least three element-wise mathematical operations using two arrays of the same size.\n",
        "arr5 = np.arange(6).reshape(2,3)\n",
        "arr6 = np.arange(6).reshape(2,3)\n",
        "print(np.add(arr5,arr6))\n",
        "print(np.subtract(arr5,arr6))\n",
        "print(np.multiply(arr5,arr6))\n",
        "#To sort a given array by row and column in ascending order.\n",
        "arr7 = np.array([[5.54, 3.38, 7.99],\n",
        " [3.54, 4.38, 6.99],\n",
        " [1.54, 2.39, 9.29]])\n",
        "print(\"The starting array is:\", arr7)\n",
        "np.sort(arr7)\n",
        "np.sort(arr7,axis=1)\n",
        "print(\"The sorted array is:\",np.sort(arr7,axis=0))"
      ],
      "metadata": {
        "colab": {
          "base_uri": "https://localhost:8080/"
        },
        "id": "voRYyLh72J_u",
        "outputId": "e8f12367-8960-461a-9e0f-8548424e72ff"
      },
      "execution_count": 7,
      "outputs": [
        {
          "output_type": "stream",
          "name": "stdout",
          "text": [
            "[10 11 12 13 14 15 16 17 18 19 20 21 22 23 24 25 26 27 28 29 30 31 32 33\n",
            " 34 35 36 37 38 39 40 41 42 43 44 45 46 47 48 49 50 51 52 53 54 55 56 57\n",
            " 58 59 60 61 62 63 64 65 66 67 68 69 70]\n",
            "[[ 0  2  4]\n",
            " [ 6  8 10]]\n",
            "[[0 0 0]\n",
            " [0 0 0]]\n",
            "[[ 0  1  4]\n",
            " [ 9 16 25]]\n",
            "The starting array is: [[5.54 3.38 7.99]\n",
            " [3.54 4.38 6.99]\n",
            " [1.54 2.39 9.29]]\n",
            "The sorted array is: [[1.54 2.39 6.99]\n",
            " [3.54 3.38 7.99]\n",
            " [5.54 4.38 9.29]]\n"
          ]
        }
      ]
    },
    {
      "cell_type": "markdown",
      "source": [],
      "metadata": {
        "id": "4jvFU49CN0xA"
      }
    },
    {
      "cell_type": "markdown",
      "source": [
        "5. Declare an array given below using NumPy and find missing data by returning Boolean output\n",
        "(True/False)."
      ],
      "metadata": {
        "id": "FKrjCfRkN0yD"
      }
    },
    {
      "cell_type": "code",
      "source": [
        "import numpy as np\n",
        "import array as ar\n",
        "\n",
        "arr8 = np.array([[4, 2, np.nan, 1],\n",
        "[11, 12, 14, 9],\n",
        " [5, np.nan, 1, np.nan]])\n",
        "print(arr8)\n",
        "print(np.isnan(arr8))\n"
      ],
      "metadata": {
        "colab": {
          "base_uri": "https://localhost:8080/"
        },
        "id": "RBY2e9ygN62X",
        "outputId": "bb6b527b-b20f-4d8c-856a-1b3d73a106e7"
      },
      "execution_count": 1,
      "outputs": [
        {
          "output_type": "stream",
          "name": "stdout",
          "text": [
            "[[ 4.  2. nan  1.]\n",
            " [11. 12. 14.  9.]\n",
            " [ 5. nan  1. nan]]\n",
            "[[False False  True False]\n",
            " [False False False False]\n",
            " [False  True False  True]]\n"
          ]
        }
      ]
    }
  ]
}